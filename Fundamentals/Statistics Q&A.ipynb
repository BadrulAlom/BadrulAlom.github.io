{
 "cells": [
  {
   "cell_type": "markdown",
   "metadata": {},
   "source": [
    "<b>About this page</b><br>\n",
    "This page contains lots of bits of stats knowledge in random order. Everything is written in Q&A format which a lot, but not all, the questions coming from Assignment questions.\n",
    "<br><br>\n",
    "<b>Why random? Why Q&A? Why no order??</b>\n",
    "- By having know clear order to the questions your brain won't just be following patterns of 'this is the binomial section' etc.\n",
    "- By putting even simple facts in Q&A format you can make sure you understand the basics ratheer than just reading it over and over again\n",
    "<br>\n",
    "- <b>Best way to use this page: \"The Iterateive Failure Method\": Start at the top, and work down, every single time you get a question wrong, go back to the top and start again. Keep doing that, over and over again.<b>"
   ]
  },
  {
   "cell_type": "markdown",
   "metadata": {},
   "source": [
    "-----------------------"
   ]
  },
  {
   "cell_type": "markdown",
   "metadata": {},
   "source": [
    "-----------------------"
   ]
  },
  {
   "cell_type": "markdown",
   "metadata": {},
   "source": [
    "<p><b>Describe the Bernoulli,  Binomal distributions and the Possion Distributions</b>\n",
    "<p><br>\n",
    "A <b>Bernoulli</b> distribution is when the outcome of an event is binary - success or not.\n",
    "<br>\n",
    "A <b>Binomial</b> is like a Benoulli but repeated multiple times (e.g. flipping a coin 10 times).\n",
    "\n",
    "P(k num of successes out of n trials) = $$   = \\binom{n}{k}* p(Success)^k*P(Not Success)^{n-k} =  \\frac{n!}{k!(n-k)!} * p^kq^{n-k}$$\n",
    "\n",
    "n = number of trials<br>\n",
    "k = number of successes\n",
    "nCr on calculator will perform the $\\binom{n}{k}$ section\n",
    "</p>\n",
    "<br>\n",
    "The <b>Poisson</b> distribution is popular for modeling the number of times an event occurs in an interval of time or space.\n",
    "<br><br>\n",
    "It applies when: \n",
    "<br>(1) occurrences are independent, so that one occurrence neither diminishes nor increases the chance of another; <br>(2) the average frequency of occurrence for the time period in question is known; and \n",
    "<br>(3) it is possible to count how many events have occurred, such as the number of times a firefly lights up in my garden in a given 5 seconds, some evening, but meaningless to ask how many such events have not occurred. \n",
    "<br>\n",
    "<br>\n",
    "The Poisson Distribution is asymmetrical: given a rate $\\lambda$ = 3, the range of variation ends with zero on one side (you will never find \"minus one\" letter in your mailbox), but is unlimited on the other side (if the label machine gets stuck, you may find yourself some Tuesday with 4,573 copies of some magazine spilling all over your front yard - it's not likely, but you can't call it impossible). The Poisson Distribution, as a data set or as the corresponding curve, is always skewed toward the right, but it is inhibited by the Zero occurrence barrier on the left. \n",
    "\n",
    "The degree of skew diminishes as r becomes larger, and at some point the Poisson Distribution becomes, to the eye, about as symmetrical as the Normal Distribution. But much though it may come to resemble the Normal Distribution, to the eye of the person who is looking at a graph for, say, $\\lambda$ = 35, the Poisson is really coming from a different kind of world event. \n",
    "\n",
    "$$P\\left( X \\ events \\ in \\ interval\\right) = \\frac{{\\lambda ^x e^{ - \\lambda } }}{{x!}}$$\n",
    "<br>e: A constant equal to approximately 2.71828. (Actually, e is the base of the natural logarithm system.)\n",
    "<br>$\\lambda$: (sometimes referred to as mean $\\mu$). The mean number of successes that occur in a specified period.\n",
    "<br>x: The actual number of successes that occur in a specified period.\n",
    "<br>P(x; $\\lambda$): The Poisson probability that exactly x successes occur in a Poisson experiment, when the mean number of successes is $\\lambda$. \n",
    "<br>\n",
    "<br>The cumulative version of this formula is simply to calculate it individually and add it up, or use a Poisson table.\n",
    "</p>"
   ]
  },
  {
   "cell_type": "markdown",
   "metadata": {},
   "source": [
    "--------------"
   ]
  },
  {
   "cell_type": "markdown",
   "metadata": {},
   "source": [
    "<b>Two fair dice are thrown. Let X be the smallest of the two numbers obtained\n",
    "(or the common value if the same number is obtained on both dice). Find the\n",
    "probability mass function of X. Find P(X > 3).</b>"
   ]
  },
  {
   "cell_type": "markdown",
   "metadata": {},
   "source": [
    "    Ans: \n",
    "    6x6 = 36 possibilities in total\n",
    "    Any two two numbers has a 1 /36 chance\n",
    "    `p(X>3) = p(4,4)+p(4,5)*2+p(5,5)+p(6,4)*2+p(6,5)*2+p(6,6) = 0.25 => 25%`"
   ]
  },
  {
   "cell_type": "markdown",
   "metadata": {},
   "source": [
    "<b>On a coral reef, S species of fish are present in proportions $p1, ... , pS$. A\n",
    "biologist wishes to take a sample of the fish, and wants to know how many\n",
    "species of fish she should expect to find in a sample of a given size.<br>\n",
    "</b>\n",
    "<br>(a) Suppose a sample of size $n$ is taken. Let $X_i (i = 1, ... ,S) $ be a random variable taking the value 1 if species i occurs, 0 otherwise. Find an expression for $E(X_i)$. \n",
    "<br>(Assume that, first, the sample is small relative to the population\n",
    "of any fish species, so that taking the sample has a negligible effect on the\n",
    "proportions of fish remaining; second, species are distributed randomly so\n",
    "that successive fish in the sample can be regarded as independent draws\n",
    "from the population).\n",
    "<br><br>\n",
    "(b) Now let Y be the number of fish species present in the sample. Express Y\n",
    "in terms of the $X_i$'s, and deduce that the expected number of species is\n",
    "$$ S-\\sum_{i=1}^{S}(1-p_i)^n$$\n",
    "Are you making any further assumptions in obtaining this result? Check\n",
    "that the formula gives the correct result for a couple of different sample\n",
    "sizes where the answer is \"obvious\".</b>"
   ]
  },
  {
   "cell_type": "markdown",
   "metadata": {},
   "source": [
    "<b>Answer:</b><br>\n",
    "S = # of different fish species<br>\n",
    "$p_i$ = proportion of fish i = probability of fish i<br>\n",
    "$X_i$ = {1,0}= fish i occurs, not occurs<br> \n",
    "$E(X_i$) = average value for $X_i$<br>\n",
    "n = sample size<br>\n",
    "<br>\n",
    "a) There are lots of different ways that a fish can be counted as 1 but only 1 way it could be 0 (the probability that every fish in the sample does not equal that fish). <br>\n",
    "P(not getting fish i in 1 fish) = $1-p_i$<br>\n",
    "multiplied by total fish sampled = $1-(1-p_i)^n = E[X_i]$\n",
    "<br><br>\n",
    "b) Y = $\\sum E[X_i] = \\sum_{i=1}^S 1-(1-p_i)^n = S - \\sum_{i=1}^S (1-p_i)^n $\n",
    "<br>\n",
    "<br>Assume uniform distribution of fish in population and S = 10 species. Check result when n= 1 where Y should = 1, and 10000 where Y = S. "
   ]
  },
  {
   "cell_type": "markdown",
   "metadata": {},
   "source": [
    "<b>\n",
    "In a promotion for a particular airline, customers and potential customers were given vouchers. 10% of these vouchers were for a free round-trip anywhere this airline flies. How many vouchers would an individual need to collect in order to have a 50% chance of winning at least one free trip?</b>"
   ]
  },
  {
   "cell_type": "markdown",
   "metadata": {},
   "source": [
    "Probability of not winning at all = $0.9^S$ where s = number of tickets"
   ]
  },
  {
   "cell_type": "markdown",
   "metadata": {},
   "source": [
    "<b>Karlyn Akimoto operates a small computer store. On a particular day she has three Hewlett-Packard and two Dell computers in stock. Suppose that Susan Spencer comes into the store to purchase two computers. Susan is not concerned about which brand she purchases—they all have the same operating specifications—so Susan selects the computers purely by chance: Any computer on the shelf is equally likely to be selected. What is the probability that Susan will purchase one Hewlett-Packard and one Dell computer?</b>"
   ]
  },
  {
   "cell_type": "markdown",
   "metadata": {},
   "source": [
    "`p(HP and Dell) = P(HP|Dell first)*P(Dell first) + P(Dell|HP first)*P(HP first) = 3/4*2/5 + 2/4*3/5 = 0.6`"
   ]
  },
  {
   "cell_type": "markdown",
   "metadata": {},
   "source": [
    "<b>An urn contains 6 red marbles and 4 black marbles. Two marbles are drawn without replacement from the urn. What is the probability that both of the marbles are black?</b>"
   ]
  },
  {
   "cell_type": "markdown",
   "metadata": {},
   "source": [
    "`p(black & black) = p(black|black)* P(black) = 4/10 * 3/9 = 0.13 => 13%`"
   ]
  },
  {
   "cell_type": "markdown",
   "metadata": {},
   "source": [
    "<b>For each case below, state whether the binomial distribution is suitable. If not,\n",
    "give your reasons; if it would, state the values of parameters trials, n and probability p.<br>\n",
    "<br>(i) The number of sixes obtained in three successive throws of a fair die.\n",
    "<br>(ii) The number of girls in the families of British prime ministers.\n",
    "<br>(iii) The number of aces in a hand of four cards dealt from a standard pack of\n",
    "cards.\n",
    "<br>(iv) The number of students in a class of 40 whose birthday falls on a Sunday\n",
    "this year.\n",
    "<br>(v) The number of throws of a fair coin until the first head is obtained.</b>"
   ]
  },
  {
   "cell_type": "markdown",
   "metadata": {},
   "source": [
    "Binomial Distribution require number of trials n, and probabilty of success p, to remain fixed\n",
    "<br>1)Yes, n=3, p=1/6\n",
    "<br>2)No - n is not a constant (different families have different numbers of children)\n",
    "<br>3)No, prob of Aces is not constant (decreases over time)\n",
    "<br>4)Yes - p(Sunday in this year) is constant ~1/7 days, and k = 40\n",
    "<br>5)No - n is not fixed"
   ]
  },
  {
   "cell_type": "markdown",
   "metadata": {},
   "source": [
    "<b>Consider a jury trial in which it takes 8 out of the 12 jurors to convict. That is,\n",
    "in order for the defendant to be convicted, at least 8 of the 12 jurors must vote\n",
    "him guilty. Assume that jurors act independently and each makes the right\n",
    "decision with probability p. Let $\\alpha$ denote the probability that the defendant is\n",
    "guilty. What is the probability that the jury renders a correct decision?</b>"
   ]
  },
  {
   "cell_type": "markdown",
   "metadata": {},
   "source": [
    "`P(correct) = P(guilty verdict | isGuilty)*P(Guilty) + P(innocent | isInnocent)*P(Innocent)`\n",
    "\n",
    "$$P(Guilty Verdict |isGuilty)*P(isGuilty) = \\sum_{k=8} ^{12} \\binom{12}{k}* p^k*(1-P)^{12-k} * \\alpha $$\n",
    "$+$\n",
    "$$P(Innocent Verdict |isInnocent) = \\sum_{k=0} ^{7} \\binom{12}{k}* p^k*(1-P)^{12-k} * (1-\\alpha) $$\n",
    "\n",
    "Only summing up a 'guilty verdict' count of 0-7 in the second line\n",
    "\n",
    "note: $\\binom{12}{k}$ means $\\frac {12!}{(12-k)!k!}$"
   ]
  },
  {
   "cell_type": "markdown",
   "metadata": {},
   "source": [
    "<b>An exam paper consists of ten multiple choice questions, each offering four\n",
    "choices of which only one is correct. If a candidate chooses his answers completely at random, what is the probability that\n",
    "(i) he gets at least 8 questions right,\n",
    "(ii) the last of the ten questions is the eighth one he gets right,\n",
    "(iii) in six such exams, he gets at least 8 questions right in at most one exam?</b>"
   ]
  },
  {
   "cell_type": "markdown",
   "metadata": {},
   "source": [
    "i) p(k>=8) = p(k=8)+p(k=9)+p(k=10)\n",
    "<br>Using Binomal theorem where n=10, p=0.25:<br>\n",
    "p(k=8) = $ \\frac{10!}{8!(10-8)!} * 0.25^8 * 0.75^{2} = 0.0038 * $<br>\n",
    "p(k=9) = $ \\frac{10!}{9!(10-9)!} * 0.25^9 * 0.75^{1}$ = 0.00028<br>\n",
    "p(k=10) = $ \\frac{10!}{10!(10-10)!} * 0.25^{10} * 0.75^{0} = 0.00007$\n",
    "<br>= 0.004\n",
    "<br>In R:\n",
    "dbinom(10, size=10, prob=0.25)+dbinom(9, size=10, prob=0.25)+dbinom(8, size=10, prob=0.25) = 0.0004\n",
    "\n",
    "ii) = P(7/9 right) + 0.25"
   ]
  },
  {
   "cell_type": "markdown",
   "metadata": {},
   "source": [
    "<b>Suppose that the number of distinct uranium deposits in a given area is a\n",
    "Poisson random variable with parameter $\\lambda$ = 10. If, in a fixed period of\n",
    "time, each deposit is independently discovered with probability 1/50, find the\n",
    "probability that (i) exactly one, (ii) at least one and, (iii) at most one deposit\n",
    "is discovered during that time.</b>"
   ]
  },
  {
   "cell_type": "markdown",
   "metadata": {
    "collapsed": true
   },
   "source": [
    "i) We have a probability here, so we know a bimial probability distribution can be used.\n",
    "p(discover) = 1/50 p(not discovery) = 49/50\n",
    "p(x=1) = \n",
    "$\\frac {10^{1/50}e^-10}{1/50!}$"
   ]
  },
  {
   "cell_type": "markdown",
   "metadata": {},
   "source": [
    "<b>Andrew Whittaker, computer center manager, reports that his computer system experienced three component failures during the past 100 days. \n",
    "<br>a. What is the probability of no failures in a given day? \n",
    "<br>b. What is the probability of one or more component failures in a given day? \n",
    "<br>c. What is the probability of at least two failures in a 3-day period?\n",
    "\n",
    "</b>"
   ]
  },
  {
   "cell_type": "markdown",
   "metadata": {},
   "source": [
    "Assuming the past 100 days is typical and component failures are independent of one another then we can computer the probability of failure usisng the Poisson distribution:\n",
    "$\\lambda (mean)$ = 3/100 = 0.03\n",
    "<br>a)$ p(x=0) = \\frac {0.03^0*e^-0.03} {0!} = 0.9075$\n",
    "<br>b) 1-p(x=0) = 0.0295\n",
    "<br>c)$\\lambda = 3*0.003 p(x>=2) = 1 - p(x=0)+p(x=1) = 1-0.9139+0.0822=0.003815$"
   ]
  },
  {
   "cell_type": "markdown",
   "metadata": {},
   "source": [
    "<b>A typist makes on average 2 mistakes per page. What is the probability of a particular page having no errors on it? </b>"
   ]
  },
  {
   "cell_type": "markdown",
   "metadata": {},
   "source": [
    "We have an average rate here: $\\lambda$ = 2 errors per page.\n",
    "We don't have an exact probability (e.g. something like \"there is a\n",
    "probability of 1/2 that a page contains errors\").\n",
    "Hence, Poisson distribution. \n",
    "($\\lambda$) = (2 errors per page * 1 page) = 2.\n",
    "Hence P0 = $\\frac{2^0}{0!} * exp(-2) = 0.135$."
   ]
  },
  {
   "cell_type": "markdown",
   "metadata": {},
   "source": [
    "<b>Components are packed in boxes of 20. The probability of a component being defective is 0.1. What is the probability of a box containing 2 defective components? </b>"
   ]
  },
  {
   "cell_type": "markdown",
   "metadata": {},
   "source": [
    "p(defective) = 0.1 and hence p(not defective) = 0.9. Hence, Binomial, with n = 20.  \n",
    "\n",
    "P(2 detective out of 20 trials) = $$  =  \\frac{20!}{2!(18)!} * 0.1^20.9^{18} = 190 * 0.002 = 0.285 $$"
   ]
  },
  {
   "cell_type": "markdown",
   "metadata": {
    "collapsed": true
   },
   "source": [
    "<b>The proportion of time during a 40-hour week that an industrial robot is in\n",
    "operation is modelled by a random variable X with probability density function:\n",
    "<br><center>f(x) =cx if 0 $\\leqslant$ proportion of time, x$\\leqslant$1, else 0</center>\n",
    "<br>where c is a constant. \n",
    "<br>a)Find c. <br>b)Find P(X < 1/2) and P(X > 1=3 j X < 1=2).</b>"
   ]
  },
  {
   "cell_type": "markdown",
   "metadata": {},
   "source": [
    "For a continuous random variable, the probability of p(X=a) = $\\int_{b}^{a}f(x)dx = 0$ \n",
    "\n",
    "http://www.felderbooks.com/papers/dx.html"
   ]
  },
  {
   "cell_type": "markdown",
   "metadata": {
    "collapsed": true
   },
   "source": [
    "<b>If you toss a coin 1,000 times and observe 570 heads, how would you assess the claim\n",
    "that the coin is fair?</b>"
   ]
  },
  {
   "cell_type": "markdown",
   "metadata": {},
   "source": [
    "$H_0 = p(H) = 0.5$<br>\n",
    "Using Binomial distribution in R   binom.test(500,1000,0.5) \n",
    "\n",
    "ata:  500 and 1000\n",
    "number of successes = 500, number of trials = 1000, p-value = 1\n",
    "alternative hypothesis: true probability of success is not equal to 0.5\n",
    "95 percent confidence interval:\n",
    " 0.4685492 0.5314508\n",
    "sample estimates:\n",
    "probability of success \n",
    "                   0.5 \n",
    "                   \n",
    "95% CI = 466 - 531. 570 is outside of this range therefore reject null hypothesis."
   ]
  },
  {
   "cell_type": "markdown",
   "metadata": {},
   "source": [
    "<B>Now say you toss 1,000 different coins once each, which you assume are identically\n",
    "distributed. Would you change your test for fairness? Would you think of ways in\n",
    "which the test could fail to behave as expected?</B>"
   ]
  },
  {
   "cell_type": "markdown",
   "metadata": {},
   "source": [
    "Assuming coins were independent (iid) the binomial could still be used.\n",
    "If not independent (e.g. coins always landed tails if the year they were made was an odd number, and head otherwise) then you could end up with it not rejecting the null hypothesis when it ought to be rejected"
   ]
  },
  {
   "cell_type": "markdown",
   "metadata": {},
   "source": [
    "<b>There is a theory that people can postpone their\n",
    "death until after an important event. Here are the numbers, in a particular year, of\n",
    "elderly Jewish and Chinese women who died just before and after the Chinese Harvest\n",
    "Moon Festival.\n",
    "<img src=\"img/Deaths.png\" height=\"100\" width=\"200\">, \n",
    "<br>\n",
    "Compare the two mortality patterns using a hypothesis test, explaining your reasoning.\n",
    "</b>"
   ]
  },
  {
   "cell_type": "markdown",
   "metadata": {},
   "source": [
    "Method 1:<br>\n",
    "First summarize the data into period 1 and period 2\n",
    "<img src=\"img/Deaths2.png\" height=\"100\" width=\"200\">\n",
    "\n",
    "We want to know whether the probability of deaths between the two groups are the same.\n",
    "$p_1$ = proportion of deaths for Chinese in P1\n",
    "$p_2$ = proportion of deaths for Jewish in P1\n",
    "<br>\n",
    "We can now think of this as two binomial distrbutions, one for Chinese and one for Jewish.  <br>\n",
    "<br>C ~ Binomial(198,$p_1$)  \n",
    "J ~ Binomial(586,$p_2$)\n",
    "<br>\n",
    "We want to know whether the two distributions have the same Proportions of people dying in Period 1. Our null hypothesis is no:\n",
    "<br>Null hypothesis H_0: $p_1$ = $p_2$\n",
    "<br>\n",
    "<br>We assume n is large enough such that the central limit theorem kicks in and that the average of p1 and p2 can be used \n",
    "<b>...fuck it I give up...</b>"
   ]
  },
  {
   "cell_type": "markdown",
   "metadata": {},
   "source": [
    "-----------------------------------------"
   ]
  },
  {
   "cell_type": "markdown",
   "metadata": {},
   "source": [
    "<b>The following table summarizes data from a\n",
    "double-blind experiment that aims at comparing particular drugs for nausea reduction\n",
    "against a placebo. Assume each patient is independently assigned one of the treatment\n",
    "groups, or the placebo.</b>\n",
    "<img src=\"img/Placebo.png\" height=\"200\" width=\"400\"> \n",
    "<br>Test each drug versus the placebo at the 5 per cent level. Report what the result would\n",
    "be under a Bonferroni adjustment, and how the interpretation changes."
   ]
  },
  {
   "cell_type": "markdown",
   "metadata": {},
   "source": [
    "Each row of data can be considered an independent binomial test with n being num. of patients and k being incidence of Nausea. However as we are conducting multiple independent trials here the Bonferroni adjustment could be used to reduce the risk of a Type I error (rejecting the null as over multiple experiments one result happened to be significant)"
   ]
  },
  {
   "cell_type": "markdown",
   "metadata": {},
   "source": [
    "-----------------------------------------"
   ]
  },
  {
   "cell_type": "markdown",
   "metadata": {},
   "source": [
    "<b>For a sample size n = 10, 50, 100, consider the test of $H_0 : \\mu$ = 0 against $H_1:\\mu$ <> 0 for\n",
    "the mean parameter $\\mu$ of a sample following a Gaussian distribution N($\\mu, \\sigma^2$), where \u001b$\\sigma^2$\n",
    "is known and the level of the test is $\\alpha$ = 0:05. Write down the power of this test as a\n",
    "function of the true mean $\\mu_0$. How would this change if $H_0$ was $\\mu$ <=0?</b>"
   ]
  },
  {
   "cell_type": "markdown",
   "metadata": {},
   "source": [
    "a) In English this is saying consider a test for checking whether the population mean is 0 or not, from a sample that exhibits a Gaussian distribution and where the population std. dev is known.\n",
    "<br>\n",
    "For this question it is worth making sure you know the Z-test:\n",
    "$$\n",
    "Z=\\frac{\\bar{X}-a}{\\sigma/\\sqrt{n}} \\quad OR \\quad Z=\\frac{\\bar{X}-a}{S/\\sqrt{n}}\n",
    "$$\n",
    "and once you have found z you can calculate the confidence interval as:\n",
    "$$\\bar{X} \\pm z_{\\alpha/2} \\frac{\\sigma}{\\sqrt{n}}$$\n",
    "where S = sample standard deviation. \n",
    "<i>Note - if the population is known not to be infinite then a k correction can be used. See: http://www.statsref.com/HTML/index.html?test_for_mean_when_standard_de_2.html</i>\n",
    "\n",
    "b) We want the test to be at the 95% Confidence Level. For a two tailed test at this level we know (or should just 'know') that Z=+/- 1.96 for an alpha of 0.05 (95% confidence) spread out across two tails (http://sphweb.bumc.bu.edu/otlt/MPH-Modules/BS/BS704_HypothesisTest-Means-Proportions/BS704_HypothesisTest-Means-Proportions3.html)\n",
    "<br><br>\n",
    "c) Therefore we can say our critical region (a fancy word for the remaining 5% not in the confidence interval) would be from $$\\bar{X} \\pm 1.96 \\frac{\\sigma}{\\sqrt{10}}$$\n",
    "<b>Finding the Power</b>\n",
    "...to be completed...\n",
    "<br>\n",
    "<br>"
   ]
  },
  {
   "cell_type": "markdown",
   "metadata": {},
   "source": [
    "------------------------------"
   ]
  },
  {
   "cell_type": "markdown",
   "metadata": {},
   "source": [
    "<b>This is a classic example using Gregor Mendel's tests of his theory of heredity. Mendel\n",
    "bred four different types of peas, starting with round yellow seeds and wrinkled green\n",
    "seeds. Each pea could result in one of four categories: round yellow, wrinkled yellow,\n",
    "round green and wrinkled green. Mendel's theory dictates that these categories follow a\n",
    "discrete distribution with respective probabilities</b>\n",
    "<br><br>\n",
    "$$p_0 = \\Bigg(\\frac9{16}\\frac3{16}\\frac3{16}\\frac1{16}\\Bigg)$$\n",
    "<br>\n",
    "His experiment had a sample size n = 556, where the observed counts were X =\n",
    "(315; 101; 108; 32). We want to test whether this data falsify or not the theory.\n",
    "For that, first calculate Pearson's \u001f$X^2$ statistic where $X_j$ is the count data for category $j$, and $E_j$ is the expected count under the null\n",
    "H0 : $p$ = $p_0$, with $p$ being the distribution parameter vector of the multinomial.\n",
    "If we have $k$ categories, T will have a chi-squared distribution with $k-1$ degrees of freedom\n",
    "(\"degrees of freedom\" is just the fancy name given to the parameter of the chi-squared).\n",
    "Describe how you would use this chi-squared statistic to test Mendel's theory.\n",
    "<br>"
   ]
  },
  {
   "cell_type": "markdown",
   "metadata": {},
   "source": [
    "-----------------------------------------"
   ]
  },
  {
   "cell_type": "markdown",
   "metadata": {},
   "source": [
    "<b> How can you compare the mean across two populations?</b>"
   ]
  },
  {
   "cell_type": "markdown",
   "metadata": {},
   "source": [
    "If you have two samples (a & b) which you believe ought to have the same underlying distribution and which to do a test to see if this is the case then:<br>\n",
    "a) You will want to test the difference in a test statistic (e.g. the mean) between a & b\n",
    "<br>b) Provided the samples are both large enough OR both samples are assumed to be from a normal distribution, then you will be able to assume that the difference you see between a and b would follow a normal distribution.\n",
    "<br>c) You can therefore test this difference by saying your null hypothesis is there difference is not statististically different from a difference of 0.\n",
    "<br>d) To work out the boundary (i.e. Confidence Interval) where you can say this you would compute:"
   ]
  },
  {
   "cell_type": "markdown",
   "metadata": {},
   "source": [
    "--------------------"
   ]
  },
  {
   "cell_type": "markdown",
   "metadata": {},
   "source": [
    "<b>Five friends including Omar and Sarah go to a party. On their way out they each pick one of the 5 jackets randomly (without replacement.<br>\n",
    "What is the probability that:<br>\n",
    "a) Omar ends up with his own jacket?<br>\n",
    "b) everyone ends up with their own jacket?<br>\n",
    "c) both Omar and Sarah don't end up with their own jackets?<b><br>"
   ]
  },
  {
   "cell_type": "markdown",
   "metadata": {},
   "source": [
    "Assuming everyone left at exactly the same time then:<br>\n",
    "a) $1/5 0.2$<br>\n",
    "b) $1/5^5$ = 0.0003<br>\n",
    "c) 4/5*4/5 = 0.640<br>"
   ]
  },
  {
   "cell_type": "markdown",
   "metadata": {},
   "source": [
    "-----------------------------------------"
   ]
  },
  {
   "cell_type": "markdown",
   "metadata": {},
   "source": [
    "<b>Describe the null hypotheses to which the p-values given in the table below correspond. Explain what conclusions you can draw based on these p-values. Your explanation should be phrased in terms of sales, TV, radio, and newspaper, rather than in terms of the coefficients of the linear model.<br></b>\n",
    "<img src=\"img/Q4_1.png\" height=\"300\" width=\"500\"> "
   ]
  },
  {
   "cell_type": "markdown",
   "metadata": {},
   "source": [
    "Null hypothesis $H_0$: No linear relationship between the number of units sold and intercept, TV, radio, or newspaper.\n",
    "So for Intercept, TV, and radio, the small p-value means that there is evidence that\n",
    "these contributed to the behaviour of sales, while newpaper advertising did not\n",
    "(given advertising in other media). It cannot be concluded that spending money\n",
    "on newspaper advertising is useless, only that it seems not to contribute to sales\n",
    "when TV and radio are being used. It also does not mean that changing the way\n",
    "newspaper funds are used would continue not to show an effect on sales, only that\n",
    "the way done in the data does not seem to work."
   ]
  },
  {
   "cell_type": "markdown",
   "metadata": {},
   "source": [
    "--------------------"
   ]
  },
  {
   "cell_type": "markdown",
   "metadata": {},
   "source": [
    "<b>Interpret the following</b>"
   ]
  },
  {
   "cell_type": "markdown",
   "metadata": {},
   "source": [
    "<code>\n",
    "Call:\n",
    "lm(formula = mpg ~ horsepower, data = Auto)\n",
    "\n",
    "Residuals:\n",
    "     Min       1Q   Median       3Q      Max \n",
    "-13.5710  -3.2592  -0.3435   2.7630  16.9240 \n",
    "\n",
    "Coefficients:\n",
    "             Estimate Std. Error t value Pr(>|t|)    \n",
    "(Intercept) 39.935861   0.717499   55.66   <2e-16 ***\n",
    "horsepower  -0.157845   0.006446  -24.49   <2e-16 ***\n",
    "\n",
    "Signif. codes:  0 ‘***’ 0.001 ‘**’ 0.01 ‘*’ 0.05 ‘.’ 0.1 ‘ ’ 1\n",
    "\n",
    "Residual standard error: 4.906 on 390 degrees of freedom\n",
    "  (5 observations deleted due to missingness)\n",
    "Multiple R-squared:  0.6059,\tAdjusted R-squared:  0.6049 \n",
    "F-statistic: 599.7 on 1 and 390 DF,  p-value: < 2.2e-16\n",
    " </code>"
   ]
  },
  {
   "cell_type": "markdown",
   "metadata": {},
   "source": [
    "a) The p-value on the F-statistic shows the the model was able to make results are statistically significant \n",
    "<br>b) As there's only one covarite we can see the same p-value in the co-efficients row showing horsepower was statistically significant and inversely correlated with the output\n",
    "<br>c) The residuals are farily well banced around the a median that's close to 0\n",
    "<br>d) The Residul standard error of 4.906 shows that the predicted output can vary from the true value by 4.906 on average\n",
    "<br>e) The R-squared of 0.6 can be considered good\n"
   ]
  },
  {
   "cell_type": "markdown",
   "metadata": {},
   "source": [
    "----------------------"
   ]
  },
  {
   "cell_type": "markdown",
   "metadata": {},
   "source": [
    "<b> What do these two charts show you?<b>"
   ]
  },
  {
   "cell_type": "markdown",
   "metadata": {},
   "source": [
    "<img src=\"img/ResidualPlot.png\" height=\"300\" width=\"500\"> \n",
    "<img src=\"img/LeveragePlot.png\" height=\"300\" width=\"500\"> "
   ]
  },
  {
   "cell_type": "markdown",
   "metadata": {},
   "source": [
    "- Top chart is a residual plot. Residual = the difference between you predicted Y and the actual Y, i.e. you are looking at the errors in your model. Very useful chart - you want your errors to be consistent across the predicted values (aka fitted valaues)\n",
    "- Bottom chart is a similar thing but when you are working in higher dimensions (to be completed...)"
   ]
  },
  {
   "cell_type": "markdown",
   "metadata": {},
   "source": [
    "----------------------------------------------"
   ]
  },
  {
   "cell_type": "markdown",
   "metadata": {
    "collapsed": true
   },
   "source": [
    "<b>What are the names for the inputs and outputs of a lineear regression model?</b>\n",
    "<br><br>\n",
    "Input variables can be called:\n",
    "    - Covariates\n",
    "    - Inputs\n",
    "    - Regressors\n",
    "    - Independent variables (bad name!)\n",
    "<br>Output variable is called:\n",
    "    - Output\n",
    "    - Response\n",
    "    - Dependent variable (bad name!)\n"
   ]
  },
  {
   "cell_type": "markdown",
   "metadata": {},
   "source": [
    "<b> What is Heteroscedasticity</b>\n",
    "<br><br>\n",
    "In linear regression this means that your variance / error is not consistent due to sub-groups within your data. Example plotting the residuals may show variance increasing over time."
   ]
  },
  {
   "cell_type": "markdown",
   "metadata": {},
   "source": [
    "<b>What is collinearity?</b>\n",
    "<br><br>\n",
    "When two or more variables are closely correlated with one another"
   ]
  },
  {
   "cell_type": "markdown",
   "metadata": {},
   "source": [
    "--------------"
   ]
  },
  {
   "cell_type": "markdown",
   "metadata": {},
   "source": [
    "<h2><b>Stupid questions that are yet to be answered...</b></h2>"
   ]
  },
  {
   "cell_type": "markdown",
   "metadata": {},
   "source": [
    "<b>One method we have seen for finding confidence intervals is finding pivots such as\n",
    "    $Q(X, \\mu) \\equiv \\frac{(\\hat{\\mu}(X) - \\mu)}{\\hat{\\sigma}\u001b(X)}$, where we explicitly represented empirical average $\\hat{\\mu}$\n",
    "and empirical standard deviation $\\sigma$\u001b as functions of the data X. A pivot is not a\n",
    "statistic as it depends on the unknown parameter, but it has a distribution which\n",
    "does not (N(0, 1) in a typical example).<br>\n",
    "<br>Another way of building a confidence interval is by inverting a test statistic.\n",
    "For instance, suppose we have data $X^{(1)}...X^{(n)} ~ N(\\mu, \\sigma^2)$ from a known $\\sigma^2$ but\n",
    "unknown $\\mu$. Consider some test for H0 : $\\mu$ = $\\mu_0$ at a level $\\alpha$. Describe how the\n",
    "machinery behind this test can be converted into a 1 - $\\alpha$ confidence interval for $\\mu$.</b>"
   ]
  },
  {
   "cell_type": "markdown",
   "metadata": {},
   "source": [
    "First of all let's translate this to plain English.\n",
    "<br>Pivot - refers to anything around which we can build a confidence interval. It's true value will be unknown but it will have a probability distribution, typically a Gaussian one."
   ]
  },
  {
   "cell_type": "markdown",
   "metadata": {},
   "source": [
    "<b>If your Linear regression model seemed to indicate “If we increase the TV budget by one thousand then, other things being equal, I will sell 400 hundred more units of my product, in expectation.” would this imply it was true?</b>\n",
    "<br><br>\n",
    "No - because there might be hidden causes that is causing both to happen. Example the data from the larger advertising budget came from more economically affluent areas where shoppers have more money to spend"
   ]
  },
  {
   "cell_type": "code",
   "execution_count": null,
   "metadata": {
    "collapsed": true
   },
   "outputs": [],
   "source": []
  }
 ],
 "metadata": {
  "anaconda-cloud": {},
  "kernelspec": {
   "display_name": "Python [Root]",
   "language": "python",
   "name": "Python [Root]"
  },
  "language_info": {
   "codemirror_mode": {
    "name": "ipython",
    "version": 3
   },
   "file_extension": ".py",
   "mimetype": "text/x-python",
   "name": "python",
   "nbconvert_exporter": "python",
   "pygments_lexer": "ipython3",
   "version": "3.5.2"
  }
 },
 "nbformat": 4,
 "nbformat_minor": 0
}
