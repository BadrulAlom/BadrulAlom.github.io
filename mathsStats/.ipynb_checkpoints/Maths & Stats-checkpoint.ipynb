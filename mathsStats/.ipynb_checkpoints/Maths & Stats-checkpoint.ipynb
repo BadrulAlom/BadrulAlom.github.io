{
 "cells": [
  {
   "cell_type": "markdown",
   "metadata": {},
   "source": [
    "<h5>--Work in progress--</h5>\n",
    "<h1>Data Science Maths & Stats fundamentals</h1>\n",
    "\n",
    "I'm a big believer that maths is only hard as mathaticians cannot explain it in plain English.\n",
    "These pages are designed to try and overcome that. They will focus on basic and advanced maths and stats knowledge.\n",
    "\n",
    "\n",
    "[Mathematical Notation](MathematicalNotation.ipynb)<br>\n",
    "\n",
    "[Linear Algebra](LinearAlgebra.ipynb)<br>\n",
    "\n",
    "[Calculus](Calculus.ipynb)<br>\n",
    "\n",
    "[Statistics Questions & Answers](StatisticsQA.ipynb)<br>\n",
    "\n"
   ]
  },
  {
   "cell_type": "code",
   "execution_count": null,
   "metadata": {
    "collapsed": true
   },
   "outputs": [],
   "source": []
  }
 ],
 "metadata": {
  "kernelspec": {
   "display_name": "Python [Root]",
   "language": "python",
   "name": "Python [Root]"
  },
  "language_info": {
   "codemirror_mode": {
    "name": "ipython",
    "version": 3
   },
   "file_extension": ".py",
   "mimetype": "text/x-python",
   "name": "python",
   "nbconvert_exporter": "python",
   "pygments_lexer": "ipython3",
   "version": "3.5.2"
  }
 },
 "nbformat": 4,
 "nbformat_minor": 0
}
