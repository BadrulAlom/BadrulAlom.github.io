{
 "cells": [
  {
   "cell_type": "markdown",
   "metadata": {},
   "source": [
    "# <b>Welcome</b>"
   ]
  },
  {
   "cell_type": "markdown",
   "metadata": {},
   "source": [
    "This site will be used to document my thoughts on data science, showcase my work, and share relevent external links. It contains notes from the MSc course in Data Science at UCL, translated into what I hope is easy to follow English."
   ]
  },
  {
   "cell_type": "markdown",
   "metadata": {},
   "source": [
    "<h2>About Me</h2><br>\n",
    "I've worn many hats during my career - computer programmer, database developer, operational researcher, government statistician, financial modeller. Right now I'm enrolled on an MSc. in Data Science and will soon add machine learning to my area of specialism (something I was interested in 10 years ago during my undergradute days but which didn't offer as many opportunities at the time).\n",
    "\n",
    "Some career highlights (chronological order):\n",
    "* Created a version of the <a href=\"https://en.wikipedia.org/wiki/Snake_(video_game)\">Snake Game</a> in Microsoft Excel and then used a artifical nerural network <a href=\"http://www.easynn.com/\">(EasyNN)</a> to learn to play it.\n",
    "* Created a C# application for managing reports in the <a href=\"https://www.ocimf.org\">Oil & Gas industry</a>\n",
    "* Developed a <a href=\"http://www.palisade.com/risk/\">Monte-Carlo financial model </a>to estimate the costs of a new venture in the higher education as well as power & utilities sector\n",
    "* Computed <a href=\"https://en.wikipedia.org/wiki/Contextual_value_added\"> Contextualized Value Added</a> scores for the Department of Education (I didn't come up with the methodology I hasten to add)\n",
    "* Created numerous(!) Excel/VBA/Database/Powerpivot solutions for corporate finance\n",
    "* Created a SQL Server financial reporting tool for M&A (Divestitures specifically)\n",
    "* Investigated the application of analytics within a global \"Big 4\" consultancy\n",
    "* Devised and implemented a global Spotfire training program\n",
    "* .. decided to take a career-break and go study an MSc in Data Science and Machine Learning at UCL\n",
    "--------------------------\n",
    "\n",
    "<h3>Contents</h3>\n",
    "\n",
    "<h4>Theory</h4>\n",
    "    [Fundamentals](Fundamentals/)  - My own Data science notes<br>\n",
    "    [Machine Learning](ML/)<br>\n",
    "\n",
    "<h4>Application</h4>\n",
    "    [Data Science in the Real World](RealWorld/)- My notes on applying DS to real-world problems<br>\n",
    "\n",
    "    \n",
    "<h4>My projects</h4>\n",
    "\n",
    "<h4>External links</h4>\n"
   ]
  },
  {
   "cell_type": "code",
   "execution_count": null,
   "metadata": {
    "collapsed": true
   },
   "outputs": [],
   "source": []
  }
 ],
 "metadata": {
  "anaconda-cloud": {},
  "kernelspec": {
   "display_name": "Python [Root]",
   "language": "python",
   "name": "Python [Root]"
  },
  "language_info": {
   "codemirror_mode": {
    "name": "ipython",
    "version": 3
   },
   "file_extension": ".py",
   "mimetype": "text/x-python",
   "name": "python",
   "nbconvert_exporter": "python",
   "pygments_lexer": "ipython3",
   "version": "3.5.2"
  }
 },
 "nbformat": 4,
 "nbformat_minor": 0
}
