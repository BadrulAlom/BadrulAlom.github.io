{
 "cells": [
  {
   "cell_type": "markdown",
   "metadata": {},
   "source": [
    "1. Naïve Bayes Classifier Algorithm\n",
    "2. K Means Clustering Algorithm\n",
    "3. Support Vector Machine Algorithm\n",
    "4. Apriori Algorithm\n",
    "5. Linear Regression\n",
    "6. Logistic Regression\n",
    "7. Artificial Neural Networks & Deep Learning\n",
    "8. Random Forests\n",
    "9. Decision Trees\n",
    "10. k-Nearest Neighbours (kKN)\n",
    "11. Expectation Maximization (EM)\n",
    "12. Page Rank\n",
    "13. AdaBoost\n",
    "14. Classification and Regression Tree (CART)\n",
    "\n",
    "Refer to https://www.dezyre.com/article/top-10-machine-learning-algorithms/202 for a good  overview of most of these"
   ]
  },
  {
   "cell_type": "markdown",
   "metadata": {},
   "source": [
    "<H2>AdaBoost</H2>\n",
    "<br>\n",
    "sd"
   ]
  },
  {
   "cell_type": "code",
   "execution_count": null,
   "metadata": {
    "collapsed": true
   },
   "outputs": [],
   "source": []
  },
  {
   "cell_type": "markdown",
   "metadata": {},
   "source": [
    "<H2>PageRank</H2>\n",
    "<br>\n"
   ]
  },
  {
   "cell_type": "code",
   "execution_count": null,
   "metadata": {
    "collapsed": true
   },
   "outputs": [],
   "source": []
  }
 ],
 "metadata": {
  "anaconda-cloud": {},
  "kernelspec": {
   "display_name": "Python [Root]",
   "language": "python",
   "name": "Python [Root]"
  },
  "language_info": {
   "codemirror_mode": {
    "name": "ipython",
    "version": 3
   },
   "file_extension": ".py",
   "mimetype": "text/x-python",
   "name": "python",
   "nbconvert_exporter": "python",
   "pygments_lexer": "ipython3",
   "version": "3.5.2"
  }
 },
 "nbformat": 4,
 "nbformat_minor": 0
}
