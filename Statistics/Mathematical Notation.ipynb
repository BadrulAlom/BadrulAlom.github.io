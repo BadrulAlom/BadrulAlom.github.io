{
 "cells": [
  {
   "cell_type": "markdown",
   "metadata": {},
   "source": [
    "<b>What do the following mathematical symbols represent?"
   ]
  },
  {
   "cell_type": "markdown",
   "metadata": {},
   "source": []
  },
  {
   "cell_type": "markdown",
   "metadata": {},
   "source": [
    "$ \\vec{V} \\qquad Vector$\n",
    "\n",
    "$ \\langle V \\rangle  \\langle W \\rangle \\qquad$ Dot Product (multiply the each inner value of a vector,V, with its corresponding value i ) W\n",
    "$\\equiv$\n",
    "\n",
    "$\\prod$ Capital PI = Product of a series = $x_1 * x_2 * ... x_n$\n",
    "\n",
    "$\\bigg(\\frac{n}k \\bigg)$ Used for binomial probability = $  =  \\frac{n!}{k!(n-k)!}$\n",
    "\n",
    "E(x) In probability and statistics, the expectation or expected value, is the weighted average value of a random variable.<br>\n",
    "$\\triangleq$ = 'by definition'"
   ]
  },
  {
   "cell_type": "markdown",
   "metadata": {},
   "source": [
    "Quadratic, Qubic, Exponential Logarithmic, "
   ]
  },
  {
   "cell_type": "markdown",
   "metadata": {},
   "source": []
  },
  {
   "cell_type": "markdown",
   "metadata": {},
   "source": [
    "<b>UNION (OR) rule:</b> $$p(a \\ or \\ b) = p(a) + p(b) - p(both)$$  i.e. a union b = p(a) + p(b) - p(a intersect b)"
   ]
  },
  {
   "cell_type": "markdown",
   "metadata": {},
   "source": [
    "$$f(x) = \\frac{1}{1+e^{-k}}$$"
   ]
  },
  {
   "cell_type": "markdown",
   "metadata": {},
   "source": [
    "Norms are ways in which the length of vectors can be measured. So in an (x,y) vector such as (10,15), the L^2 Norm could be used to measure the 'length':\n",
    "\n",
    "√( x^2 + y^2 )<br>\n",
    "= $sqrt(sum(abs(X).^2))$\n",
    "<br>= norm function in Matlab\n",
    "\n",
    "https://rorasa.wordpress.com/2012/05/13/l0-norm-l1-norm-l2-norm-l-infinity-norm/"
   ]
  }
 ],
 "metadata": {
  "anaconda-cloud": {},
  "kernelspec": {
   "display_name": "Python [Root]",
   "language": "python",
   "name": "Python [Root]"
  },
  "language_info": {
   "codemirror_mode": {
    "name": "ipython",
    "version": 3
   },
   "file_extension": ".py",
   "mimetype": "text/x-python",
   "name": "python",
   "nbconvert_exporter": "python",
   "pygments_lexer": "ipython3",
   "version": "3.5.2"
  }
 },
 "nbformat": 4,
 "nbformat_minor": 0
}
