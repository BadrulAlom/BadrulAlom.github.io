{
 "cells": [
  {
   "cell_type": "markdown",
   "metadata": {},
   "source": [
    "# <b>Welcome to my GitHub Repository</b>"
   ]
  },
  {
   "cell_type": "markdown",
   "metadata": {},
   "source": [
    "This is a space for me to document my notes & articles, and showcase what I know"
   ]
  },
  {
   "cell_type": "markdown",
   "metadata": {},
   "source": [
    "<b>Contents</b>\n",
    "\n",
    "<i>About Me</i><br>\n",
    "\n",
    "\n",
    "<i>Applied DS</i><br>\n",
    "    [Data Science in the Real World](RealWorld/)- My notes on applying DS to real-world problems<br>\n",
    "\n",
    "<i>DS Theory</i><br>\n",
    "    [Fundamentals](Fundamentals/)  - My own Data science notes<br>\n",
    "    [Machine Learning](ML/)<br>\n",
    "    \n",
    "<i>My projects</i><br>\n",
    "\n",
    "<i>External links</i><br>\n"
   ]
  },
  {
   "cell_type": "code",
   "execution_count": null,
   "metadata": {
    "collapsed": true
   },
   "outputs": [],
   "source": []
  }
 ],
 "metadata": {
  "anaconda-cloud": {},
  "kernelspec": {
   "display_name": "Python [Root]",
   "language": "python",
   "name": "Python [Root]"
  },
  "language_info": {
   "codemirror_mode": {
    "name": "ipython",
    "version": 3
   },
   "file_extension": ".py",
   "mimetype": "text/x-python",
   "name": "python",
   "nbconvert_exporter": "python",
   "pygments_lexer": "ipython3",
   "version": "3.5.2"
  }
 },
 "nbformat": 4,
 "nbformat_minor": 0
}
