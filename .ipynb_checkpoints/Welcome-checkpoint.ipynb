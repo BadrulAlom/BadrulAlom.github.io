{
 "cells": [
  {
   "cell_type": "markdown",
   "metadata": {
    "nbpresent": {
     "id": "e299351f-a773-4554-8972-16304a82c03b"
    }
   },
   "source": [
    "# <b>Badrul's Data Science Repository</b>"
   ]
  },
  {
   "cell_type": "markdown",
   "metadata": {},
   "source": [
    "<h3>Contents</h3>\n",
    "\n",
    "<h4>About me</h4>\n",
    "\n",
    "<h4>Data Science Fundamentals</h4>\n",
    "    [Maths & Stats](MathsStats/)<br>\n",
    "    [Machine Learning](ML/)<br>\n",
    "    [Useful Linux commans](Linux/)<br>\n",
    "\n",
    "<h4>Data Science Application</h4>\n",
    "    [Data Science in the Real World](RealWorld/)- My notes on applying DS to real-world problems<br>\n",
    "\n",
    "    \n",
    "<h4>My projects</h4>\n",
    "<h4>External links</h4>\n",
    "---------------------------------------"
   ]
  },
  {
   "cell_type": "markdown",
   "metadata": {
    "nbpresent": {
     "id": "3ec30d26-a569-4016-848e-abbd093b0c18"
    }
   },
   "source": [
    "<h2>About Me</h2><br>\n",
    "I've worn many hats during my career - computer programmer, database developer, operational researcher, government statistician, financial modeller. Right now I'm enrolled on an MSc. in Data Science and will soon add machine learning to my area of specialism (something I was interested in 10 years ago during my undergradute days but which didn't offer as many opportunities at the time).\n",
    "\n",
    "Some career highlights (chronological order):\n",
    "* Created a version of the <a href=\"https://en.wikipedia.org/wiki/Snake_(video_game)\">Snake Game</a> in Microsoft Excel and then used a artifical nerural network <a href=\"http://www.easynn.com/\">(EasyNN)</a> to learn to play it.\n",
    "* Created a C# application for managing reports in the <a href=\"https://www.ocimf.org\">Oil & Gas industry</a>\n",
    "* Developed a <a href=\"http://www.palisade.com/risk/\">Monte-Carlo financial model </a>to estimate the costs of a new venture in the higher education as well as power & utilities sector\n",
    "* Computed <a href=\"https://en.wikipedia.org/wiki/Contextual_value_added\"> Contextualized Value Added</a> scores for the Department of Education (I didn't come up with the methodology I hasten to add)\n",
    "* Created numerous(!) Excel/VBA/Database/Powerpivot solutions for corporate finance\n",
    "* Created a SQL Server financial reporting tool for M&A (Divestitures specifically)\n",
    "* Investigated the application of analytics within a global \"Big 4\" consultancy\n",
    "* Devised and implemented a global Spotfire training program\n",
    "* .. decided to take a career-break and go study an MSc in Data Science and Machine Learning at UCL\n",
    "---------------------------------------"
   ]
  },
  {
   "cell_type": "code",
   "execution_count": null,
   "metadata": {
    "collapsed": true,
    "nbpresent": {
     "id": "111d5e81-7cad-4c2b-8a7e-390fd1b6b27c"
    }
   },
   "outputs": [],
   "source": []
  }
 ],
 "metadata": {
  "anaconda-cloud": {},
  "kernelspec": {
   "display_name": "Python [Root]",
   "language": "python",
   "name": "Python [Root]"
  },
  "language_info": {
   "codemirror_mode": {
    "name": "ipython",
    "version": 3
   },
   "file_extension": ".py",
   "mimetype": "text/x-python",
   "name": "python",
   "nbconvert_exporter": "python",
   "pygments_lexer": "ipython3",
   "version": "3.5.2"
  },
  "nbpresent": {
   "slides": {},
   "themes": {
    "default": "782262c1-e657-4216-8b33-40bc3d2c69f4",
    "theme": {
     "782262c1-e657-4216-8b33-40bc3d2c69f4": {
      "backgrounds": {
       "dc7afa04-bf90-40b1-82a5-726e3cff5267": {
        "background-color": "31af15d2-7e15-44c5-ab5e-e04b16a89eff",
        "id": "dc7afa04-bf90-40b1-82a5-726e3cff5267"
       }
      },
      "id": "782262c1-e657-4216-8b33-40bc3d2c69f4",
      "palette": {
       "19cc588f-0593-49c9-9f4b-e4d7cc113b1c": {
        "id": "19cc588f-0593-49c9-9f4b-e4d7cc113b1c",
        "rgb": [
         252,
         252,
         252
        ]
       },
       "31af15d2-7e15-44c5-ab5e-e04b16a89eff": {
        "id": "31af15d2-7e15-44c5-ab5e-e04b16a89eff",
        "rgb": [
         68,
         68,
         68
        ]
       },
       "50f92c45-a630-455b-aec3-788680ec7410": {
        "id": "50f92c45-a630-455b-aec3-788680ec7410",
        "rgb": [
         197,
         226,
         245
        ]
       },
       "c5cc3653-2ee1-402a-aba2-7caae1da4f6c": {
        "id": "c5cc3653-2ee1-402a-aba2-7caae1da4f6c",
        "rgb": [
         43,
         126,
         184
        ]
       },
       "efa7f048-9acb-414c-8b04-a26811511a21": {
        "id": "efa7f048-9acb-414c-8b04-a26811511a21",
        "rgb": [
         25.118061674008803,
         73.60176211453744,
         107.4819383259912
        ]
       }
      },
      "rules": {
       "a": {
        "color": "19cc588f-0593-49c9-9f4b-e4d7cc113b1c"
       },
       "blockquote": {
        "color": "50f92c45-a630-455b-aec3-788680ec7410",
        "font-size": 3
       },
       "code": {
        "font-family": "Anonymous Pro"
       },
       "h1": {
        "color": "19cc588f-0593-49c9-9f4b-e4d7cc113b1c",
        "font-family": "Merriweather",
        "font-size": 8
       },
       "h2": {
        "color": "19cc588f-0593-49c9-9f4b-e4d7cc113b1c",
        "font-family": "Merriweather",
        "font-size": 6
       },
       "h3": {
        "color": "50f92c45-a630-455b-aec3-788680ec7410",
        "font-family": "Lato",
        "font-size": 5.5
       },
       "h4": {
        "color": "c5cc3653-2ee1-402a-aba2-7caae1da4f6c",
        "font-family": "Lato",
        "font-size": 5
       },
       "h5": {
        "font-family": "Lato"
       },
       "h6": {
        "font-family": "Lato"
       },
       "h7": {
        "font-family": "Lato"
       },
       "li": {
        "color": "50f92c45-a630-455b-aec3-788680ec7410",
        "font-size": 3.25
       },
       "pre": {
        "font-family": "Anonymous Pro",
        "font-size": 4
       }
      },
      "text-base": {
       "color": "19cc588f-0593-49c9-9f4b-e4d7cc113b1c",
       "font-family": "Lato",
       "font-size": 4
      }
     }
    }
   }
  }
 },
 "nbformat": 4,
 "nbformat_minor": 0
}
